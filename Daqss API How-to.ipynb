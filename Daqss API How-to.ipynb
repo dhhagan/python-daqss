{
 "cells": [
  {
   "cell_type": "markdown",
   "metadata": {},
   "source": [
    "# Daqss API Tutorial\n",
    "\n",
    "## Overview\n",
    "\n",
    "An application program interface (API) is a set of routines, protocols, and tools for building software applications. A good APi makes it easier to develop a program by providing the building blocks. A programmer then puts those blocks together.\n",
    "\n",
    "The Daqss API provides an easy way to read and write data to/from the remote server. It is protected by key/password combinations and allows Users read-only access. The following describes how to use the Python wrapper that is built on top of the Daqss API.\n",
    "\n",
    "## Contents\n",
    "\n",
    "  1. [Installation](#installation)\n",
    "  2. [API Credentials](#api-credentials)\n",
    "  3. [API Endpoints](#api-endpoints)\n",
    "  4. [Using the Python API Wrapper](#how-to-use)"
   ]
  },
  {
   "cell_type": "markdown",
   "metadata": {},
   "source": [
    "<a id=\"#installation\"></a>"
   ]
  },
  {
   "cell_type": "markdown",
   "metadata": {},
   "source": [
    "## Installation\n",
    "\n",
    "To install the python-daqss python API wrapper, download from the Github repository here, or clone the repository to your computer.\n",
    "\n",
    "### Download and unzip\n",
    "\n",
    "    >>> wget https://github.com/dhhagan/python-daqss/archive/master.zip\n",
    "    >>> unzip master.zip\n",
    "    >>> cd python-daqss/\n",
    "    >>> sudo python setup.py install\n",
    "\n",
    "### Install via git\n",
    "\n",
    "    >>> git clone https://github.com/dhhagan/python-daqss.git\n",
    "    >>> cd python-daqss/\n",
    "    >>> sudo python setup.py install\n",
    "    \n",
    "You should now have the python API wrapper installed on your computer."
   ]
  },
  {
   "cell_type": "markdown",
   "metadata": {},
   "source": [
    "<a id=\"#api-credentials\"></a>"
   ]
  },
  {
   "cell_type": "markdown",
   "metadata": {},
   "source": [
    "## API Credentials\n",
    "\n",
    "The Daqss API is protected using a key, password system that prevents unwanted people from injecting data into the database, or deleting entries. In order to use the API to communicate with the database, you must first request your own set of API credentials.\n",
    "\n",
    "As of right now, you must email david@davidhhagan.com for API credentials!"
   ]
  },
  {
   "cell_type": "markdown",
   "metadata": {},
   "source": [
    "## API Endpoints\n",
    "\n",
    "API endpoints at their most basic level, share a common structure; essentially, you send a url that is formatted in a specific way, accompanied by your credentials, and recieve data (or an error!) in return in [json](http://json.org/) format. All of the available API endpoints are layed out in detail in the [full documentation](#). \n",
    "\n",
    "For example, say we wanted to request the data for one of the alphasense gas sensors. The documentation looks something like this:\n",
    "\n",
    "### Resource URL\n",
    "\n",
    "   * **GET api/< api-version >/alphasense/< sn >/data/date/< basedate >/< period >**\n",
    "   * **GET api/< api-version >/alphasense/< sn >/data/date/< basedate >/< enddate >**\n",
    "\n",
    "\n",
    "| api-version | The API version. Currently 1.0 |\n",
    "|:-|:-|\n",
    "| sn | The serial number for the alphasense sensor of interest|\n",
    "| basedate | The beginning date for the data you want to recieve in the format **YYYY-MM-DD** |\n",
    "| period | The period (length) for which you want data beginning at the basedate. One of **1d, 2w, 4m, 1y** |\n",
    "| enddate | The ending date for the data you want to recieve in the format **YYYY-MM-DD** |\n",
    "\n",
    "\n",
    "<br />\n",
    "Thus, once you build the resource url, you might end up with something like this: ** api/v1.0/alphasense/A123/data/date/2015-01-01/1w**"
   ]
  },
  {
   "cell_type": "markdown",
   "metadata": {},
   "source": [
    "## Using the python API wrapper\n",
    "\n",
    "Luckily, a python wrapper has been written around the Daqss API to make things easy for everyone! "
   ]
  },
  {
   "cell_type": "code",
   "execution_count": 1,
   "metadata": {
    "collapsed": false
   },
   "outputs": [
    {
     "name": "stdout",
     "output_type": "stream",
     "text": [
      "daqss library version: 0.0.11\n"
     ]
    }
   ],
   "source": [
    "import daqss\n",
    "from daqss import Daqss\n",
    "import pandas as pd\n",
    "\n",
    "key = 'DHDNAG3E43AV'\n",
    "pswd = 'S9L5NNDLKAJU'\n",
    "\n",
    "print (\"daqss library version: {0}\".format(daqss.__version__))"
   ]
  },
  {
   "cell_type": "markdown",
   "metadata": {},
   "source": [
    "### Set up the class instance of Daqss"
   ]
  },
  {
   "cell_type": "code",
   "execution_count": 2,
   "metadata": {
    "collapsed": false
   },
   "outputs": [
    {
     "data": {
      "text/plain": [
       "True"
      ]
     },
     "execution_count": 2,
     "metadata": {},
     "output_type": "execute_result"
    }
   ],
   "source": [
    "# Set up an instance of the class Daqss with keyword arguments key and password\n",
    "api = Daqss(key, pswd)\n",
    "\n",
    "# Ping to see if you have a connection\n",
    "api.ping()"
   ]
  },
  {
   "cell_type": "markdown",
   "metadata": {},
   "source": [
    "### Your first API call\n",
    "\n",
    "To begin, let's try grabbing all of the nodes from the database. Instead of worrying about the API endpoint, we can just call `api.get_nodes()` and you will get what you desire!\n",
    "\n",
    "Everything is in json format, so you will need to learn how to deal with that..don't worry, it's easy!"
   ]
  },
  {
   "cell_type": "code",
   "execution_count": 9,
   "metadata": {
    "collapsed": false
   },
   "outputs": [
    {
     "name": "stdout",
     "output_type": "stream",
     "text": [
      "The Status Code: 200\n",
      "The response: \n",
      "\n"
     ]
    },
    {
     "data": {
      "text/plain": [
       "[{u'co_sensor': u'http://45.55.154.140/api/v1.0/alphasense/1',\n",
       "  u'description': u'DAQSS001',\n",
       "  u'last_updated': u'Mon, 15 Jun 2015 10:00:02 GMT',\n",
       "  u'latitude': 0.0,\n",
       "  u'longitude': 0.0,\n",
       "  u'no2_sensor': u'http://45.55.154.140/api/v1.0/alphasense/3',\n",
       "  u'no_sensor': u'http://45.55.154.140/api/v1.0/alphasense/2',\n",
       "  u'node_sn': u'DAQSS001',\n",
       "  u'o3_sensor': u'http://45.55.154.140/api/v1.0/alphasense/4',\n",
       "  u'opc': None,\n",
       "  u'rht_sensor': u'http://45.55.154.140/api/v1.0/rht/1',\n",
       "  u'url': u'http://45.55.154.140/api/v1.0/nodes/DAQSS001'},\n",
       " {u'co_sensor': u'http://45.55.154.140/api/v1.0/alphasense/5',\n",
       "  u'description': u'DAQSS002',\n",
       "  u'last_updated': u'Mon, 01 Jun 2015 10:00:02 GMT',\n",
       "  u'latitude': 0.0,\n",
       "  u'longitude': 0.0,\n",
       "  u'no2_sensor': u'http://45.55.154.140/api/v1.0/alphasense/7',\n",
       "  u'no_sensor': u'http://45.55.154.140/api/v1.0/alphasense/6',\n",
       "  u'node_sn': u'DAQSS002',\n",
       "  u'o3_sensor': u'http://45.55.154.140/api/v1.0/alphasense/8',\n",
       "  u'opc': None,\n",
       "  u'rht_sensor': u'http://45.55.154.140/api/v1.0/rht/2',\n",
       "  u'url': u'http://45.55.154.140/api/v1.0/nodes/DAQSS002'},\n",
       " {u'co_sensor': u'http://45.55.154.140/api/v1.0/alphasense/9',\n",
       "  u'description': u'DAQSS003',\n",
       "  u'last_updated': u'Mon, 15 Jun 2015 16:00:04 GMT',\n",
       "  u'latitude': 0.0,\n",
       "  u'longitude': 0.0,\n",
       "  u'no2_sensor': u'http://45.55.154.140/api/v1.0/alphasense/11',\n",
       "  u'no_sensor': u'http://45.55.154.140/api/v1.0/alphasense/10',\n",
       "  u'node_sn': u'DAQSS003',\n",
       "  u'o3_sensor': u'http://45.55.154.140/api/v1.0/alphasense/12',\n",
       "  u'opc': None,\n",
       "  u'rht_sensor': u'http://45.55.154.140/api/v1.0/rht/3',\n",
       "  u'url': u'http://45.55.154.140/api/v1.0/nodes/DAQSS003'},\n",
       " {u'co_sensor': u'http://45.55.154.140/api/v1.0/alphasense/13',\n",
       "  u'description': u'DAQSS004',\n",
       "  u'last_updated': u'Mon, 01 Jun 2015 10:00:02 GMT',\n",
       "  u'latitude': 0.0,\n",
       "  u'longitude': 0.0,\n",
       "  u'no2_sensor': u'http://45.55.154.140/api/v1.0/alphasense/15',\n",
       "  u'no_sensor': u'http://45.55.154.140/api/v1.0/alphasense/14',\n",
       "  u'node_sn': u'DAQSS004',\n",
       "  u'o3_sensor': u'http://45.55.154.140/api/v1.0/alphasense/16',\n",
       "  u'opc': None,\n",
       "  u'rht_sensor': u'http://45.55.154.140/api/v1.0/rht/4',\n",
       "  u'url': u'http://45.55.154.140/api/v1.0/nodes/DAQSS004'},\n",
       " {u'co_sensor': u'http://45.55.154.140/api/v1.0/alphasense/17',\n",
       "  u'description': u'DAQSS005',\n",
       "  u'last_updated': u'Mon, 15 Jun 2015 16:00:03 GMT',\n",
       "  u'latitude': 0.0,\n",
       "  u'longitude': 0.0,\n",
       "  u'no2_sensor': u'http://45.55.154.140/api/v1.0/alphasense/19',\n",
       "  u'no_sensor': u'http://45.55.154.140/api/v1.0/alphasense/18',\n",
       "  u'node_sn': u'DAQSS005',\n",
       "  u'o3_sensor': u'http://45.55.154.140/api/v1.0/alphasense/20',\n",
       "  u'opc': None,\n",
       "  u'rht_sensor': u'http://45.55.154.140/api/v1.0/rht/5',\n",
       "  u'url': u'http://45.55.154.140/api/v1.0/nodes/DAQSS005'}]"
      ]
     },
     "execution_count": 9,
     "metadata": {},
     "output_type": "execute_result"
    }
   ],
   "source": [
    "status, req = api.get_nodes()\n",
    "\n",
    "print (\"The Status Code: {0}\".format(status))\n",
    "print (\"The response: \\n\")\n",
    "req['nodes']"
   ]
  },
  {
   "cell_type": "markdown",
   "metadata": {},
   "source": [
    "### Making the data more usable\n",
    "\n",
    "Let's take advantage of the amazing library [pandas]() and DataFrame's so we can easily manipulate the data and export to csv if we want to.\n",
    "\n",
    "We will do so by reading the `nodes` portion of the json response into a pandas DataFrame. All of the column names and everything should be automatically set."
   ]
  },
  {
   "cell_type": "code",
   "execution_count": 14,
   "metadata": {
    "collapsed": false
   },
   "outputs": [
    {
     "name": "stdout",
     "output_type": "stream",
     "text": [
      "<class 'pandas.core.frame.DataFrame'>\n",
      "Int64Index: 5 entries, 0 to 4\n",
      "Data columns (total 12 columns):\n",
      "co_sensor       5 non-null object\n",
      "description     5 non-null object\n",
      "last_updated    5 non-null object\n",
      "latitude        5 non-null float64\n",
      "longitude       5 non-null float64\n",
      "no2_sensor      5 non-null object\n",
      "no_sensor       5 non-null object\n",
      "node_sn         5 non-null object\n",
      "o3_sensor       5 non-null object\n",
      "opc             0 non-null object\n",
      "rht_sensor      5 non-null object\n",
      "url             5 non-null object\n",
      "dtypes: float64(2), object(10)\n",
      "memory usage: 520.0+ bytes\n"
     ]
    }
   ],
   "source": [
    "# Read into a DataFrame\n",
    "df = pd.DataFrame.from_dict(req['nodes'])\n",
    "\n",
    "# Print the info\n",
    "df.info()"
   ]
  },
  {
   "cell_type": "markdown",
   "metadata": {},
   "source": [
    "### Exporting\n",
    "\n",
    "Now we are going to export this data to a csv for whatever reason!"
   ]
  },
  {
   "cell_type": "code",
   "execution_count": 15,
   "metadata": {
    "collapsed": true
   },
   "outputs": [],
   "source": [
    "df.to_csv(\"Nodes.csv\")"
   ]
  },
  {
   "cell_type": "markdown",
   "metadata": {},
   "source": [
    "## Getting the Data!\n",
    "\n",
    "Now, let's download some data and export it. We are going to download one months worth of data for the alphasense sensor associated with Node 3. From the config file, we know that the SN for this O3 sensor is **203490202**. According to the documentation for the API wrapper, we can get the alphasense data using the following api call:\n",
    "\n",
    "**get_alphasense_data(self, sn, basedate = None, enddate = None, period = None)**\n",
    "\n",
    "Let's grab the O3 data for the time period of 1 month beginning on May 1, 2015."
   ]
  },
  {
   "cell_type": "code",
   "execution_count": 26,
   "metadata": {
    "collapsed": false
   },
   "outputs": [
    {
     "name": "stdout",
     "output_type": "stream",
     "text": [
      "<class 'pandas.core.frame.DataFrame'>\n",
      "DatetimeIndex: 118873 entries, 2015-05-01 00:00:03 to 2015-06-18 10:52:29\n",
      "Data columns (total 5 columns):\n",
      "ae_volts         118873 non-null float64\n",
      "concentration    0 non-null object\n",
      "sensor           118873 non-null object\n",
      "timestamp        118873 non-null object\n",
      "we_volts         118873 non-null float64\n",
      "dtypes: float64(2), object(3)\n",
      "memory usage: 5.4+ MB\n"
     ]
    }
   ],
   "source": [
    "status, data = api.get_alphasense_data('203490202', basedate = '2015-05-01', period='6m')\n",
    "\n",
    "# read into a dataframe\n",
    "df = pd.DataFrame.from_dict(data['data'])\n",
    "\n",
    "# Re-index so we have a nice datetime index to work with\n",
    "df.index = pd.to_datetime(df['timestamp'])\n",
    "\n",
    "# Export to csv!\n",
    "df.to_csv(\"O3 Node 3 May 2015.csv\")\n",
    "\n",
    "# Print the info\n",
    "df.info()"
   ]
  },
  {
   "cell_type": "code",
   "execution_count": null,
   "metadata": {
    "collapsed": true
   },
   "outputs": [],
   "source": [
    "status, data = api.get_rht_data('RHT001', basedate = '2015-05-01', period = '1w')\n",
    "\n",
    "# read into a dataframe\n",
    "df = pd.DataFrame.from_dict(data['data'])\n",
    "\n",
    "# Re-index so we have a nice datetime index to work with\n",
    "df.index = pd.to_datetime(df['timestamp'])\n",
    "\n",
    "# Print the info\n",
    "df.info()"
   ]
  },
  {
   "cell_type": "code",
   "execution_count": null,
   "metadata": {
    "collapsed": true
   },
   "outputs": [],
   "source": []
  }
 ],
 "metadata": {
  "kernelspec": {
   "display_name": "Python 2",
   "language": "python",
   "name": "python2"
  },
  "language_info": {
   "codemirror_mode": {
    "name": "ipython",
    "version": 2
   },
   "file_extension": ".py",
   "mimetype": "text/x-python",
   "name": "python",
   "nbconvert_exporter": "python",
   "pygments_lexer": "ipython2",
   "version": "2.7.5"
  }
 },
 "nbformat": 4,
 "nbformat_minor": 0
}
